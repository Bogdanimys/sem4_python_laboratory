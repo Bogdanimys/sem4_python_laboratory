{
  "cells":[
    {
      "cell_type":"markdown",
      "source":[
        "# Лабораторная работа №2. Методы поиска\n",
        "# **Выполнил студент группы БВТ1903 Сельвестренко В.В.**\n",
        "# Задание\n",
        "Реализовать методы поиска в соответствии с заданием. Организовать генерацию начального набора случайных данных. Для всех вариантов добавить реализацию добавления, поиска и удаления элементов. Оценить время работы каждого алгоритма поиска и сравнить его со временем работы стандартной функции поиска, используемой в выбранном языке программирования.\n",
        "\n",
        "Задание №1:\n",
        "Бинарный поиск\t|Бинарное дерево\t|Фибоначчиев\t|Интерполяционный\n",
        "\n",
        "Задание №2:\n",
        "Простое рехэширование |Рехэширование с помощью |Метод цепочек\n",
        "\n",
        "\n",
        "\n",
        "Задание № 3:\n",
        "\n",
        "Расставить на стандартной 64-клеточной шахматной доске 8 ферзей так, чтобы ни один из них не находился под боем другого». Подразумевается, что ферзь бьёт все клетки, расположенные по вертикалям, горизонталям и обеим диагоналям\n",
        "Написать программу,  которая находит хотя бы один способ решения задач."
      ],
      "metadata":{
        
      }
    },
    {
      "cell_type":"markdown",
      "source":[
        "# ЗАДАНИЕ 1"
      ],
      "metadata":{
        
      }
    },
    {
      "cell_type":"markdown",
      "source":[
        "# дополнительный код (для генерации и сортировки массива)"
      ],
      "metadata":{
        
      }
    },
    {
      "cell_type":"code",
      "source":[
        "\n",
        "import random\n",
        "\n",
        "\n",
        "def generate_array(length=100):  # генерируем случайный массив\n",
        "    array = []\n",
        "    while len(array) < length:\n",
        "        array.append(random.randint(0, 100))\n",
        "    return array\n",
        "\n",
        "\n",
        "def default_sort(array):  # Сортируем с помощью встроенной функции\n",
        "    ans = array.copy()\n",
        "    ans.sort()\n",
        "    return ans\n",
        "\n",
        "\n",
        "\n",
        "init_array = generate_array(1_00)\n",
        "print(init_array)\n",
        "sorted_array = default_sort(init_array)\n",
        "print(sorted_array)"
      ],
      "execution_count":7,
      "outputs":[
        {
          "name":"stdout",
          "text":[
            "[53, 4, 42, 83, 79, 85, 40, 59, 81, 20, 28, 9, 5, 97, 60, 85, 34, 80, 27, 62, 31, 7, 95, 26, 64, 30, 25, 44, 83, 33, 18, 36, 41, 24, 8, 57, 42, 96, 94, 64, 6, 65, 26, 6, 46, 14, 40, 58, 58, 6, 51, 29, 24, 2, 48, 16, 79, 12, 100, 47, 99, 24, 83, 0, 2, 58, 95, 83, 11, 15, 39, 74, 72, 10, 83, 28, 49, 7, 15, 27, 63, 86, 100, 100, 18, 58, 21, 84, 70, 62, 5, 47, 87, 5, 81, 67, 4, 25, 100, 74]\n",
            "[0, 2, 2, 4, 4, 5, 5, 5, 6, 6, 6, 7, 7, 8, 9, 10, 11, 12, 14, 15, 15, 16, 18, 18, 20, 21, 24, 24, 24, 25, 25, 26, 26, 27, 27, 28, 28, 29, 30, 31, 33, 34, 36, 39, 40, 40, 41, 42, 42, 44, 46, 47, 47, 48, 49, 51, 53, 57, 58, 58, 58, 58, 59, 60, 62, 62, 63, 64, 64, 65, 67, 70, 72, 74, 74, 79, 79, 80, 81, 81, 83, 83, 83, 83, 83, 84, 85, 85, 86, 87, 94, 95, 95, 96, 97, 99, 100, 100, 100, 100]\n"
          ],
          "output_type":"stream"
        }
      ],
      "metadata":{
        
      }
    },
    {
      "cell_type":"markdown",
      "source":[
        "# [бинарный поиск](https:\/\/ru.wikipedia.org\/wiki\/%D0%94%D0%B2%D0%BE%D0%B8%D1%87%D0%BD%D1%8B%D0%B9_%D0%BF%D0%BE%D0%B8%D1%81%D0%BA)"
      ],
      "metadata":{
        
      }
    },
    {
      "cell_type":"code",
      "source":[
        "def binary_search(array, element):\n",
        "    arr_length = len(array)\n",
        "    left_bound = 0\n",
        "    right_bound = arr_length\n",
        "    middle = arr_length \/\/ 2\n",
        "    while array[middle] != element:\n",
        "        if right_bound - left_bound == 1: \n",
        "            return -1\n",
        "        if array[middle] > element:\n",
        "            right_bound = middle\n",
        "        else:\n",
        "            left_bound = middle\n",
        "        middle = (right_bound + left_bound) \/\/ 2\n",
        "    return middle"
      ],
      "execution_count":9,
      "outputs":[
        
      ],
      "metadata":{
        
      }
    },
    {
      "cell_type":"markdown",
      "source":[
        "# - добавление и удаление элементов"
      ],
      "metadata":{
        
      }
    },
    {
      "cell_type":"code",
      "source":[
        "def add_element_binary_search(array, element):\n",
        "    arr_length = len(array)\n",
        "    left_bound = 0\n",
        "    right_bound = arr_length\n",
        "    middle = arr_length \/\/ 2\n",
        "    while True:\n",
        "        if right_bound - left_bound == 1:  # поиск окончен, добавляем элемент в нужную часть\n",
        "            if right_bound == arr_length and element > array[arr_length - 1]:  # частный случай: добавление в конец\n",
        "                return array + [element]\n",
        "            if left_bound == 0 and element < array[0]:  # частный случай: добавление в начало\n",
        "                return [element] + array\n",
        "            return array[:right_bound] + [element] + array[right_bound:]\n",
        "\n",
        "        if array[middle] > element:\n",
        "            right_bound = middle\n",
        "        else:\n",
        "            left_bound = middle\n",
        "        middle = (right_bound + left_bound) \/\/ 2\n",
        "\n",
        "\n",
        "def remove_element_binary_search(array, element):\n",
        "    i = binary_search(array, element)\n",
        "    if i == -1:\n",
        "        return array\n",
        "    else:\n",
        "        return array[:i] + array[(i + 1):]"
      ],
      "execution_count":10,
      "outputs":[
        
      ],
      "metadata":{
        
      }
    },
    {
      "cell_type":"markdown",
      "source":[
        "# - примеры работы"
      ],
      "metadata":{
        
      }
    },
    {
      "cell_type":"code",
      "source":[
        "binary_search_array = default_sort(init_array)\n",
        "print(binary_search_array)\n",
        "binary_search_array = add_element_binary_search(binary_search_array, 101)\n",
        "binary_search_array = add_element_binary_search(binary_search_array, 1)\n",
        "print(binary_search_array)\n",
        "binary_search_array = remove_element_binary_search(binary_search_array, 101)\n",
        "print(binary_search_array)\n",
        "\n",
        "print('Элемент %i имеет индекс %i' % (10, binary_search(binary_search_array, 10)))"
      ],
      "execution_count":11,
      "outputs":[
        {
          "name":"stdout",
          "text":[
            "[0, 2, 2, 4, 4, 5, 5, 5, 6, 6, 6, 7, 7, 8, 9, 10, 11, 12, 14, 15, 15, 16, 18, 18, 20, 21, 24, 24, 24, 25, 25, 26, 26, 27, 27, 28, 28, 29, 30, 31, 33, 34, 36, 39, 40, 40, 41, 42, 42, 44, 46, 47, 47, 48, 49, 51, 53, 57, 58, 58, 58, 58, 59, 60, 62, 62, 63, 64, 64, 65, 67, 70, 72, 74, 74, 79, 79, 80, 81, 81, 83, 83, 83, 83, 83, 84, 85, 85, 86, 87, 94, 95, 95, 96, 97, 99, 100, 100, 100, 100]\n",
            "[0, 1, 2, 2, 4, 4, 5, 5, 5, 6, 6, 6, 7, 7, 8, 9, 10, 11, 12, 14, 15, 15, 16, 18, 18, 20, 21, 24, 24, 24, 25, 25, 26, 26, 27, 27, 28, 28, 29, 30, 31, 33, 34, 36, 39, 40, 40, 41, 42, 42, 44, 46, 47, 47, 48, 49, 51, 53, 57, 58, 58, 58, 58, 59, 60, 62, 62, 63, 64, 64, 65, 67, 70, 72, 74, 74, 79, 79, 80, 81, 81, 83, 83, 83, 83, 83, 84, 85, 85, 86, 87, 94, 95, 95, 96, 97, 99, 100, 100, 100, 100, 101]\n",
            "[0, 1, 2, 2, 4, 4, 5, 5, 5, 6, 6, 6, 7, 7, 8, 9, 10, 11, 12, 14, 15, 15, 16, 18, 18, 20, 21, 24, 24, 24, 25, 25, 26, 26, 27, 27, 28, 28, 29, 30, 31, 33, 34, 36, 39, 40, 40, 41, 42, 42, 44, 46, 47, 47, 48, 49, 51, 53, 57, 58, 58, 58, 58, 59, 60, 62, 62, 63, 64, 64, 65, 67, 70, 72, 74, 74, 79, 79, 80, 81, 81, 83, 83, 83, 83, 83, 84, 85, 85, 86, 87, 94, 95, 95, 96, 97, 99, 100, 100, 100, 100]\n",
            "Элемент 10 имеет индекс 16\n"
          ],
          "output_type":"stream"
        }
      ],
      "metadata":{
        
      }
    },
    {
      "cell_type":"markdown",
      "source":[
        "# [бинарное дерево](https:\/\/ru.wikipedia.org\/wiki\/%D0%94%D0%B2%D0%BE%D0%B8%D1%87%D0%BD%D0%BE%D0%B5_%D0%B4%D0%B5%D1%80%D0%B5%D0%B2%D0%BE_%D0%BF%D0%BE%D0%B8%D1%81%D0%BA%D0%B0)"
      ],
      "metadata":{
        
      }
    },
    {
      "cell_type":"code",
      "source":[
        "# класс и функции для бинарного дерева\n",
        "\n",
        "\n",
        "class Node:\n",
        "    def __init__(self, key):\n",
        "        self.left = None\n",
        "        self.right = None\n",
        "        self.val = key\n",
        "\n",
        "\n",
        "def make_binary_tree(array):\n",
        "    rr = Node(None)\n",
        "    for x in array:\n",
        "        rr = add_element_binary_tree(rr, x)\n",
        "    return rr\n",
        "\n",
        "\n",
        "def print_node(node):\n",
        "    if node is None or node.val is None:\n",
        "        print(\"Н\", end=\" \")\n",
        "    else:\n",
        "        print(node.val, end=\" \")\n",
        "\n",
        "\n",
        "def print_binary_tree(*nodes):\n",
        "    new_nodes = []\n",
        "    for node in nodes:\n",
        "        print_node(node)\n",
        "        if node is not None:\n",
        "            new_nodes.append(node.left)\n",
        "            new_nodes.append(node.right)\n",
        "        else:\n",
        "            new_nodes.append(None)\n",
        "            new_nodes.append(None)\n",
        "    print(\" \")\n",
        "\n",
        "    if not new_nodes or not all(x is None for x in new_nodes):\n",
        "        print_binary_tree(*new_nodes)"
      ],
      "execution_count":12,
      "outputs":[
        
      ],
      "metadata":{
        
      }
    },
    {
      "cell_type":"markdown",
      "source":[
        "# - поиск в бинарном дереве"
      ],
      "metadata":{
        
      }
    },
    {
      "cell_type":"code",
      "source":[
        "def binary_tree_search(root, key):  # поиск элемента в бинарном дереве\n",
        "    if root is None or root.val == key:  # возвращает найденный эл., и None если эл. не найден\n",
        "        return root\n",
        "    if root.val <= key:  # поиск...\n",
        "        return binary_tree_search(root.right, key)\n",
        "    return binary_tree_search(root.left, key)"
      ],
      "execution_count":13,
      "outputs":[
        
      ],
      "metadata":{
        
      }
    },
    {
      "cell_type":"markdown",
      "source":[
        "# - добавление и удаление элементов"
      ],
      "metadata":{
        
      }
    },
    {
      "cell_type":"code",
      "source":[
        "def add_element_binary_tree(root, key):\n",
        "    if root is None:\n",
        "        return Node(key)\n",
        "    if root.val is None:\n",
        "        return Node(key)\n",
        "    else:\n",
        "        if root.val < key:\n",
        "            root.right = add_element_binary_tree(root.right, key)\n",
        "        else:\n",
        "            root.left = add_element_binary_tree(root.left, key)\n",
        "    return root\n",
        "\n",
        "\n",
        "def remove_element_binary_tree_search(root, key):\n",
        "    if root is None:\n",
        "        return root\n",
        "\n",
        "    if key < root.val:\n",
        "        root.left = remove_element_binary_tree_search(root.left, key)\n",
        "    elif key > root.val:\n",
        "        root.right = remove_element_binary_tree_search(root.right, key)\n",
        "    else:\n",
        "        # случаи: у родителя только 1 ребёнок\n",
        "        if root.left is None:\n",
        "            buffer = root.right\n",
        "            root = None\n",
        "            return buffer\n",
        "        elif root.right is None:  # в любой непонятной ситуации бери левого ребёнка\n",
        "            buffer = root.left\n",
        "            root = None\n",
        "            return buffer\n",
        "        # случай: у родителя 2 ребёнка\n",
        "        min_node = root.right\n",
        "        # ищем минимальный элемент справа\n",
        "        while min_node.left is not None:\n",
        "            min_node = min_node.left\n",
        "        root.val = min_node.val\n",
        "        root.right = remove_element_binary_tree_search(root.right, min_node.val)\n",
        "    return root"
      ],
      "execution_count":14,
      "outputs":[
        
      ],
      "metadata":{
        
      }
    },
    {
      "cell_type":"markdown",
      "source":[
        "# - примеры работы"
      ],
      "metadata":{
        
      }
    },
    {
      "cell_type":"code",
      "source":[
        "array_for_tree = generate_array(10)\n",
        "r = make_binary_tree(array_for_tree)\n",
        "print_binary_tree(r)\n",
        "r = add_element_binary_tree(r, 5)\n",
        "print_binary_tree(r)\n",
        "r = remove_element_binary_tree_search(r, 5)\n",
        "print_binary_tree(r)\n",
        "\n",
        "r = add_element_binary_tree(r, 50)\n",
        "print_node(binary_tree_search(r, 50))"
      ],
      "execution_count":15,
      "outputs":[
        {
          "name":"stdout",
          "text":[
            "21  \n",
            "12 62  \n",
            "Н Н 35 72  \n",
            "Н Н Н Н 22 53 70 99  \n",
            "Н Н Н Н Н Н Н Н Н 32 Н Н Н Н Н Н  \n",
            "21  \n",
            "12 62  \n",
            "5 Н 35 72  \n",
            "Н Н Н Н 22 53 70 99  \n",
            "Н Н Н Н Н Н Н Н Н 32 Н Н Н Н Н Н  \n",
            "21  \n",
            "12 62  \n",
            "Н Н 35 72  \n",
            "Н Н Н Н 22 53 70 99  \n",
            "Н Н Н Н Н Н Н Н Н 32 Н Н Н Н Н Н  \n",
            "50 "
          ],
          "output_type":"stream"
        }
      ],
      "metadata":{
        
      }
    },
    {
      "cell_type":"markdown",
      "source":[
        "# [фибоначчиев](https:\/\/neerc.ifmo.ru\/wiki\/index.php?title=%D0%9C%D0%B5%D1%82%D0%BE%D0%B4_%D0%A4%D0%B8%D0%B1%D0%BE%D0%BD%D0%B0%D1%87%D1%87%D0%B8)"
      ],
      "metadata":{
        
      }
    },
    {
      "cell_type":"code",
      "source":[
        "def fibonacci_search(array, element):\n",
        "    arr_length = len(array)\n",
        "    fpast = 0\n",
        "    fnow = 1\n",
        "    while True:  # пытаемся найти промежуток, где находится наше значение\n",
        "        if fnow >= arr_length:  # дошли до конца массива промежутком\n",
        "            if array[arr_length - 1] < element:\n",
        "                return -1\n",
        "            else:\n",
        "                fnow = arr_length - 1\n",
        "                break\n",
        "        if array[fnow] >= element:\n",
        "            break\n",
        "        buffer = fnow\n",
        "        fnow = fnow + fpast\n",
        "        fpast = buffer\n",
        "\n",
        "    for i in range(fpast, fnow + 1):\n",
        "        if array[i] == element:\n",
        "            return i\n",
        "    return -1"
      ],
      "execution_count":16,
      "outputs":[
        
      ],
      "metadata":{
        
      }
    },
    {
      "cell_type":"markdown",
      "source":[
        "# - добавление и удаление элементов"
      ],
      "metadata":{
        
      }
    },
    {
      "cell_type":"code",
      "source":[
        "def add_element_fibonacci(array, element):\n",
        "    arr_length = len(array)\n",
        "    fpast = 0\n",
        "    fnow = 1\n",
        "    while True:  # пытаемся найти промежуток, где находится наше значение\n",
        "        if fnow >= arr_length:  # дошли до конца массива промежутком\n",
        "            if array[arr_length - 1] < element:\n",
        "                return array + [element]\n",
        "            else:\n",
        "                fnow = arr_length - 1\n",
        "                break\n",
        "        if array[fnow] >= element:\n",
        "            break\n",
        "        buffer = fnow\n",
        "        fnow = fnow + fpast\n",
        "        fpast = buffer\n",
        "\n",
        "    for i in range(fpast, fnow + 1):\n",
        "        if array[i] >= element:\n",
        "            return array[:i] + [element] + array[i:]\n",
        "    return [element] + array\n",
        "\n",
        "\n",
        "def remove_element_fibonacci(array, element):\n",
        "    i = fibonacci_search(array, element)\n",
        "    if i == -1:\n",
        "        return array\n",
        "    else:\n",
        "        return array[:i] + array[(i + 1):]"
      ],
      "execution_count":17,
      "outputs":[
        
      ],
      "metadata":{
        
      }
    },
    {
      "cell_type":"markdown",
      "source":[
        "# - примеры работы"
      ],
      "metadata":{
        
      }
    },
    {
      "cell_type":"code",
      "source":[
        "fibonacci_array = default_sort(init_array)\n",
        "print(fibonacci_array)\n",
        "fibonacci_array = add_element_fibonacci(fibonacci_array, -1)\n",
        "fibonacci_array = add_element_fibonacci(fibonacci_array, 1)\n",
        "fibonacci_array = add_element_fibonacci(fibonacci_array, 105)\n",
        "print(fibonacci_array)\n",
        "fibonacci_array = remove_element_fibonacci(fibonacci_array, -1)\n",
        "print(fibonacci_array)\n",
        "\n",
        "print('Элемент %i имеет индекс %i' % (4, fibonacci_search(fibonacci_array, 4)))"
      ],
      "execution_count":18,
      "outputs":[
        {
          "name":"stdout",
          "text":[
            "[0, 2, 2, 4, 4, 5, 5, 5, 6, 6, 6, 7, 7, 8, 9, 10, 11, 12, 14, 15, 15, 16, 18, 18, 20, 21, 24, 24, 24, 25, 25, 26, 26, 27, 27, 28, 28, 29, 30, 31, 33, 34, 36, 39, 40, 40, 41, 42, 42, 44, 46, 47, 47, 48, 49, 51, 53, 57, 58, 58, 58, 58, 59, 60, 62, 62, 63, 64, 64, 65, 67, 70, 72, 74, 74, 79, 79, 80, 81, 81, 83, 83, 83, 83, 83, 84, 85, 85, 86, 87, 94, 95, 95, 96, 97, 99, 100, 100, 100, 100]\n",
            "[-1, 0, 1, 2, 2, 4, 4, 5, 5, 5, 6, 6, 6, 7, 7, 8, 9, 10, 11, 12, 14, 15, 15, 16, 18, 18, 20, 21, 24, 24, 24, 25, 25, 26, 26, 27, 27, 28, 28, 29, 30, 31, 33, 34, 36, 39, 40, 40, 41, 42, 42, 44, 46, 47, 47, 48, 49, 51, 53, 57, 58, 58, 58, 58, 59, 60, 62, 62, 63, 64, 64, 65, 67, 70, 72, 74, 74, 79, 79, 80, 81, 81, 83, 83, 83, 83, 83, 84, 85, 85, 86, 87, 94, 95, 95, 96, 97, 99, 100, 100, 100, 100, 105]\n",
            "[0, 1, 2, 2, 4, 4, 5, 5, 5, 6, 6, 6, 7, 7, 8, 9, 10, 11, 12, 14, 15, 15, 16, 18, 18, 20, 21, 24, 24, 24, 25, 25, 26, 26, 27, 27, 28, 28, 29, 30, 31, 33, 34, 36, 39, 40, 40, 41, 42, 42, 44, 46, 47, 47, 48, 49, 51, 53, 57, 58, 58, 58, 58, 59, 60, 62, 62, 63, 64, 64, 65, 67, 70, 72, 74, 74, 79, 79, 80, 81, 81, 83, 83, 83, 83, 83, 84, 85, 85, 86, 87, 94, 95, 95, 96, 97, 99, 100, 100, 100, 100, 105]\n",
            "Элемент 4 имеет индекс 4\n"
          ],
          "output_type":"stream"
        }
      ],
      "metadata":{
        
      }
    },
    {
      "cell_type":"markdown",
      "source":[
        "# [интерполяционный](https:\/\/ru.wikipedia.org\/wiki\/%D0%98%D0%BD%D1%82%D0%B5%D1%80%D0%BF%D0%BE%D0%BB%D1%8F%D1%86%D0%B8%D0%BE%D0%BD%D0%BD%D1%8B%D0%B9_%D0%BF%D0%BE%D0%B8%D1%81%D0%BA)"
      ],
      "metadata":{
        
      }
    },
    {
      "cell_type":"code",
      "source":[
        "def interpolation_search(array, element):\n",
        "    low = 0\n",
        "    high = len(array) - 1\n",
        "    while array[low] < element < array[high]:\n",
        "        if array[high] == array[low]:\n",
        "            break\n",
        "        mid = low + ((element - array[low]) * (high - low) \/\/ (array[high] - array[low]))\n",
        "        if array[mid] < element:\n",
        "            low = mid + 1\n",
        "        elif array[mid] > element:\n",
        "            high = mid - 1\n",
        "        else:\n",
        "            return mid\n",
        "    if array[low] == element:\n",
        "        return low\n",
        "    if array[high] == element:\n",
        "        return high\n",
        "\n",
        "    return -1"
      ],
      "execution_count":19,
      "outputs":[
        
      ],
      "metadata":{
        
      }
    },
    {
      "cell_type":"markdown",
      "source":[
        "# - добавление и удаление элементов"
      ],
      "metadata":{
        
      }
    },
    {
      "cell_type":"code",
      "source":[
        "def add_element_interpolated(array, element):\n",
        "    low = 0\n",
        "    high = len(array) - 1\n",
        "    mid = low + (element - array[low]) * (high - low) \/\/ (array[high] - array[low])\n",
        "    if mid < 0:\n",
        "        return [element] + array\n",
        "    if mid >= len(array):\n",
        "        return array + [element]\n",
        "\n",
        "    while True:\n",
        "        if array[high] == array[low]:\n",
        "            return array[:mid] + [element] + array[mid:]\n",
        "        mid = low + (element - array[low]) * (high - low + 1) \/\/ (array[high] - array[low])\n",
        "        if mid > high:\n",
        "            return array[:(high + 1)] + [element] + array[(high + 1):]\n",
        "        if mid < low:\n",
        "            return array[:low] + [element] + array[low:]\n",
        "        if array[mid] < element:\n",
        "            low = mid + 1\n",
        "            if array[low] >= element:\n",
        "                return array[:low] + [element] + array[low:]\n",
        "        elif array[mid] > element:\n",
        "            high = mid - 1\n",
        "            if array[low] >= element:\n",
        "                return array[:mid] + [element] + array[mid:]\n",
        "        else:\n",
        "            return array[:mid] + [element] + array[mid:]\n",
        "        \n",
        "\n",
        "\n",
        "def remove_element_interpolated(array, element):\n",
        "    i = interpolation_search(array, element)\n",
        "    if i == -1:\n",
        "        return array\n",
        "    else:\n",
        "\n",
        "        return array[:i] + array[(i + 1):]"
      ],
      "execution_count":20,
      "outputs":[
        
      ],
      "metadata":{
        
      }
    },
    {
      "cell_type":"markdown",
      "source":[
        "  # - примеры работы"
      ],
      "metadata":{
        
      }
    },
    {
      "cell_type":"code",
      "source":[
        "interpolated_array = default_sort(init_array)\n",
        "print(interpolated_array)\n",
        "interpolated_array = add_element_interpolated(interpolated_array, -1)\n",
        "interpolated_array = add_element_interpolated(interpolated_array, 6)\n",
        "interpolated_array = add_element_interpolated(interpolated_array, 104)\n",
        "print(interpolated_array)\n",
        "interpolated_array = remove_element_interpolated(interpolated_array, -1)\n",
        "print(interpolated_array)\n",
        "\n",
        "print('Элемент %i имеет индекс %i' % (4, interpolation_search(interpolated_array, 4)))"
      ],
      "execution_count":21,
      "outputs":[
        {
          "name":"stdout",
          "text":[
            "[0, 2, 2, 4, 4, 5, 5, 5, 6, 6, 6, 7, 7, 8, 9, 10, 11, 12, 14, 15, 15, 16, 18, 18, 20, 21, 24, 24, 24, 25, 25, 26, 26, 27, 27, 28, 28, 29, 30, 31, 33, 34, 36, 39, 40, 40, 41, 42, 42, 44, 46, 47, 47, 48, 49, 51, 53, 57, 58, 58, 58, 58, 59, 60, 62, 62, 63, 64, 64, 65, 67, 70, 72, 74, 74, 79, 79, 80, 81, 81, 83, 83, 83, 83, 83, 84, 85, 85, 86, 87, 94, 95, 95, 96, 97, 99, 100, 100, 100, 100]\n",
            "[-1, 0, 2, 2, 4, 4, 5, 5, 5, 6, 6, 6, 6, 7, 7, 8, 9, 10, 11, 12, 14, 15, 15, 16, 18, 18, 20, 21, 24, 24, 24, 25, 25, 26, 26, 27, 27, 28, 28, 29, 30, 31, 33, 34, 36, 39, 40, 40, 41, 42, 42, 44, 46, 47, 47, 48, 49, 51, 53, 57, 58, 58, 58, 58, 59, 60, 62, 62, 63, 64, 64, 65, 67, 70, 72, 74, 74, 79, 79, 80, 81, 81, 83, 83, 83, 83, 83, 84, 85, 85, 86, 87, 94, 95, 95, 96, 97, 99, 100, 100, 100, 100, 104]\n",
            "[0, 2, 2, 4, 4, 5, 5, 5, 6, 6, 6, 6, 7, 7, 8, 9, 10, 11, 12, 14, 15, 15, 16, 18, 18, 20, 21, 24, 24, 24, 25, 25, 26, 26, 27, 27, 28, 28, 29, 30, 31, 33, 34, 36, 39, 40, 40, 41, 42, 42, 44, 46, 47, 47, 48, 49, 51, 53, 57, 58, 58, 58, 58, 59, 60, 62, 62, 63, 64, 64, 65, 67, 70, 72, 74, 74, 79, 79, 80, 81, 81, 83, 83, 83, 83, 83, 84, 85, 85, 86, 87, 94, 95, 95, 96, 97, 99, 100, 100, 100, 100, 104]\n",
            "Элемент 4 имеет индекс 3\n"
          ],
          "output_type":"stream"
        }
      ],
      "metadata":{
        
      }
    },
    {
      "cell_type":"markdown",
      "source":[
        "# сравнение скорости поиска"
      ],
      "metadata":{
        
      }
    },
    {
      "cell_type":"code",
      "source":[
        "import timeit\n",
        "our_element = random.randint(0,100)\n",
        "our_array = default_sort(generate_array(100))\n",
        "r = make_binary_tree(our_array)\n",
        "print(\"двоичный поиск   \" + str(timeit.timeit(\"binary_search(binary_search_array, our_element)\", number=1, globals=globals())))\n",
        "print(\"двоичный поиск   \" + str(timeit.timeit(\"binary_tree_search(r, our_element)\", number=1, globals=globals())))\n",
        "print(\"двоичный поиск   \" + str(timeit.timeit(\"fibonacci_search(binary_search_array, our_element)\", number=1, globals=globals())))\n",
        "print(\"двоичный поиск   \" + str(timeit.timeit(\"interpolation_search(binary_search_array, our_element)\", number=1, globals=globals())))\n",
        "print(\"двоичный поиск   \" + str(timeit.timeit(\"our_array.index(our_element)\", number=1, globals=globals())))"
      ],
      "execution_count":27,
      "outputs":[
        {
          "name":"stdout",
          "text":[
            "двоичный поиск   6.70000008540228e-06\n",
            "двоичный поиск   2.6419998903293163e-05\n",
            "двоичный поиск   9.90999978967011e-06\n",
            "двоичный поиск   4.839999746764079e-06\n",
            "двоичный поиск   3.550998371792957e-06\n"
          ],
          "output_type":"stream"
        }
      ],
      "metadata":{
        
      }
    },
    {
      "cell_type":"markdown",
      "source":[
        "# ЗАДАНИЕ 2"
      ],
      "metadata":{
        
      }
    },
    {
      "cell_type":"markdown",
      "source":[
        "# дополнительный код (для создания объекта с конкретным хешем)"
      ],
      "metadata":{
        
      }
    },
    {
      "cell_type":"code",
      "source":[
        "\n",
        "class ClassForRehash:\n",
        "    \"\"\"\n",
        "    Класс для наглядных примеров рехэширования\n",
        "    \"\"\"\n",
        "    def __init__(self, value1):\n",
        "        self.value1 = value1\n",
        "\n",
        "    MAX_HASH_TABLE = 8\n",
        "    def __hash__(self):\n",
        "        \"\"\"\n",
        "        Крайне простое хэширование (для наглядности). \\r\\n\n",
        "        Особенность:\n",
        "            -Хеш зависит только от единиц в числе value1 (для удобства создания коллизий)\n",
        "        \"\"\"\n",
        "\n",
        "        return int((((self.value1 % ClassForRehash.MAX_HASH_TABLE) * 331) & 127) % ClassForRehash.MAX_HASH_TABLE)"
      ],
      "execution_count":28,
      "outputs":[
        
      ],
      "metadata":{
        
      }
    },
    {
      "cell_type":"markdown",
      "source":[
        "# [простое рехеширование](https:\/\/studfile.net\/preview\/7081338\/page:9\/)"
      ],
      "metadata":{
        
      }
    },
    {
      "cell_type":"code",
      "source":[
        "\n",
        "class SimpleRehashTable:\n",
        "\n",
        "    def __init__(self, length):\n",
        "        self.table = [None] * length\n",
        "\n",
        "    def add_el(self, element):\n",
        "        original_hash = element.__hash__()\n",
        "        if self.table[original_hash] is None:\n",
        "            self.table[original_hash] = element\n",
        "            print(\"объект со значением %i имеет хэш: %i (рехеширование не требовалось)\"\n",
        "                  % (self.table[original_hash].value1, original_hash))\n",
        "            return\n",
        "\n",
        "        \"\"\"\"\"\n",
        "        простое рехеширование\n",
        "        \"\"\"\"\"\n",
        "        new_hash = original_hash + 1\n",
        "        while new_hash != original_hash:\n",
        "            if new_hash >= len(self.table):\n",
        "                new_hash = 0\n",
        "                continue\n",
        "            if self.table[new_hash] is None:\n",
        "                self.table[new_hash] = element\n",
        "                print(\"объект со значением %i имеет хэш: %i (рехешировано. коллизия была в хеше: %i)\"\n",
        "                      % (self.table[new_hash].value1, new_hash, original_hash))\n",
        "                return\n",
        "            new_hash += 1\n",
        "        print(\"таблица заполнена!\")\n",
        "        return\n"
      ],
      "execution_count":29,
      "outputs":[
        
      ],
      "metadata":{
        
      }
    },
    {
      "cell_type":"markdown",
      "source":[
        "# пример работы"
      ],
      "metadata":{
        
      }
    },
    {
      "cell_type":"code",
      "source":[
        "\n",
        "simple_re = SimpleRehashTable(ClassForRehash.MAX_HASH_TABLE)\n",
        "for i in range(len(simple_re.table) + 2):\n",
        "    simple_re.add_el(ClassForRehash(random.randint(0, 9)))"
      ],
      "execution_count":30,
      "outputs":[
        {
          "name":"stdout",
          "text":[
            "объект со значением 7 имеет хэш: 5 (рехеширование не требовалось)\n",
            "объект со значением 8 имеет хэш: 0 (рехеширование не требовалось)\n",
            "объект со значением 8 имеет хэш: 1 (рехешировано. коллизия была в хеше: 0)\n",
            "объект со значением 3 имеет хэш: 2 (рехешировано. коллизия была в хеше: 1)\n",
            "объект со значением 2 имеет хэш: 6 (рехеширование не требовалось)\n",
            "объект со значением 0 имеет хэш: 3 (рехешировано. коллизия была в хеше: 0)\n",
            "объект со значением 5 имеет хэш: 7 (рехеширование не требовалось)\n",
            "объект со значением 9 имеет хэш: 4 (рехешировано. коллизия была в хеше: 3)\n",
            "таблица заполнена!\n",
            "таблица заполнена!\n"
          ],
          "output_type":"stream"
        }
      ],
      "metadata":{
        
      }
    },
    {
      "cell_type":"markdown",
      "source":[
        "# [случайное рехеширование](https:\/\/studfile.net\/preview\/7081338\/page:9\/)"
      ],
      "metadata":{
        
      }
    },
    {
      "cell_type":"code",
      "source":[
        "\n",
        "class RandomRehashTable:\n",
        "\n",
        "    def __init__(self, length):\n",
        "        self.table = [None] * length\n",
        "\n",
        "    def add_el(self, element):\n",
        "        original_hash = element.__hash__()\n",
        "        if self.table[original_hash] is None:\n",
        "            self.table[original_hash] = element\n",
        "            print(\"объект со значением %i имеет хэш: %i (рехеширование не требовалось)\"\n",
        "                  % (self.table[original_hash].value1, original_hash))\n",
        "            return\n",
        "\n",
        "        \"\"\"\"\"\n",
        "        случайное рехеширование\n",
        "        \"\"\"\"\"\n",
        "        table_len = len(self.table)\n",
        "        r = 1\n",
        "        for ii in range(10):  # range(число попыток определить новый хеш)\n",
        "            r *= 5\n",
        "            r = r % (4 * table_len)\n",
        "            new_hash = r \/\/ 4\n",
        "            if self.table[new_hash] is None:\n",
        "                self.table[new_hash] = element\n",
        "                print(\"объект со значением %i имеет хэш: %i (рехешировано. коллизия была в хеше: %i)\"\n",
        "                      % (self.table[new_hash].value1, new_hash, original_hash))\n",
        "                return\n",
        "        print(\"Не удалось найти свободный хеш в таблице!\")\n",
        "        return"
      ],
      "execution_count":31,
      "outputs":[
        
      ],
      "metadata":{
        
      }
    },
    {
      "cell_type":"markdown",
      "source":[
        "# пример работы"
      ],
      "metadata":{
        
      }
    },
    {
      "cell_type":"code",
      "source":[
        "random_re = RandomRehashTable(ClassForRehash.MAX_HASH_TABLE)\n",
        "for i in range(len(random_re.table) + 2):\n",
        "    random_re.add_el(ClassForRehash(random.randint(0, 9)))"
      ],
      "execution_count":32,
      "outputs":[
        {
          "name":"stdout",
          "text":[
            "объект со значением 1 имеет хэш: 3 (рехеширование не требовалось)\n",
            "объект со значением 7 имеет хэш: 5 (рехеширование не требовалось)\n",
            "объект со значением 2 имеет хэш: 6 (рехеширование не требовалось)\n",
            "объект со значением 9 имеет хэш: 1 (рехешировано. коллизия была в хеше: 3)\n",
            "объект со значением 3 имеет хэш: 7 (рехешировано. коллизия была в хеше: 1)\n",
            "объект со значением 3 имеет хэш: 4 (рехешировано. коллизия была в хеше: 1)\n",
            "объект со значением 0 имеет хэш: 0 (рехеширование не требовалось)\n",
            "объект со значением 7 имеет хэш: 2 (рехешировано. коллизия была в хеше: 5)\n",
            "Не удалось найти свободный хеш в таблице!\n",
            "Не удалось найти свободный хеш в таблице!\n"
          ],
          "output_type":"stream"
        }
      ],
      "metadata":{
        
      }
    },
    {
      "cell_type":"markdown",
      "source":[
        "# [метод цепочек](https:\/\/studfile.net\/preview\/7081338\/page:10\/)"
      ],
      "metadata":{
        
      }
    },
    {
      "cell_type":"code",
      "source":[
        "\n",
        "class ChainRehashTable:\n",
        "\n",
        "    def __init__(self, length):\n",
        "        self.table = [None] * length\n",
        "\n",
        "    def add_el(self, element):\n",
        "        \"\"\"\"\"\n",
        "        метод цепочек\n",
        "        \"\"\"\"\"\n",
        "        original_hash = element.__hash__()\n",
        "        if self.table[original_hash] is None:\n",
        "            self.table[original_hash] = [element]\n",
        "            return\n",
        "        else:\n",
        "            length = len(self.table[original_hash])\n",
        "            self.table[original_hash].append(element)\n",
        "            return"
      ],
      "execution_count":33,
      "outputs":[
        
      ],
      "metadata":{
        
      }
    },
    {
      "cell_type":"markdown",
      "source":[
        "# пример работы"
      ],
      "metadata":{
        
      }
    },
    {
      "cell_type":"code",
      "source":[
        "chain_re = ChainRehashTable(ClassForRehash.MAX_HASH_TABLE)\n",
        "for i in range(len(chain_re.table) + 2):\n",
        "    chain_re.add_el(ClassForRehash(random.randint(0, 9)))\n",
        "hash = 0\n",
        "for x in chain_re.table:  # вывод хеш таблицы для метода цепочек\n",
        "    print(\"[hash: %i]\" % hash, end=\" \")\n",
        "    if x is None:\n",
        "        print(\"Empty\")\n",
        "    else:\n",
        "        for y in x:\n",
        "            print(y.value1, end=\" \")\n",
        "        print(\"\")\n",
        "    hash += 1"
      ],
      "execution_count":34,
      "outputs":[
        {
          "name":"stdout",
          "text":[
            "[hash: 0] 0 8 0 \n",
            "[hash: 1] 3 \n",
            "[hash: 2] Empty\n",
            "[hash: 3] 1 \n",
            "[hash: 4] 4 4 \n",
            "[hash: 5] Empty\n",
            "[hash: 6] 2 \n",
            "[hash: 7] 5 5 \n"
          ],
          "output_type":"stream"
        }
      ],
      "metadata":{
        
      }
    },
    {
      "cell_type":"markdown",
      "source":[
        "# ЗАДАНИЕ 3"
      ],
      "metadata":{
        
      }
    },
    {
      "cell_type":"markdown",
      "source":[
        "# функции для нахождения доски с ферзями"
      ],
      "metadata":{
        
      }
    },
    {
      "cell_type":"code",
      "source":[
        "\n",
        "def make_quins_attack(array):\n",
        "    \"\"\"\n",
        "    пересчитывает клетки под атакой на всём поле\n",
        "    \"\"\"\n",
        "    length = len(array)\n",
        "    for y in range(length):  # очищаем закрытые клетки\n",
        "        for x in range(length):\n",
        "            if array[y][x] == 1:\n",
        "                array[y][x] = 0\n",
        "    for y in range(length):  # закрываем клетки\n",
        "        for x in range(length):\n",
        "            if array[y][x] == 2:\n",
        "                buffer = 0\n",
        "                for i in range(length):\n",
        "                    if array[i][x] == 0:  # закрываем клетки по вертикали\n",
        "                        array[i][x] = 1\n",
        "                    if array[y][i] == 0:  # закрываем клетки по горизонтали\n",
        "                        array[y][i] = 1\n",
        "                    # закрываем клетки по диагонали \\\n",
        "                    if x >= y and length > x - y + i >= 0:  # королева в верхней правой части доски\n",
        "                        if array[i][x - y + i] == 0:\n",
        "                            array[i][x - y + i] = 1\n",
        "                    elif length > y - x + i >= 0:  # королева в нижней левой части доски\n",
        "                        if array[y - x + i][i] == 0:\n",
        "                            array[y - x + i][i] = 1\n",
        "                    # закрываем клетки по диагонали \/\n",
        "                    if x + y <= length and length > x + y - i >= 0:  # королева в верхней левой части доски\n",
        "                        if array[i][x + y - i] == 0:\n",
        "                            array[i][x + y - i] = 1\n",
        "                    elif length > y + x - i >= 0:  # королева в нижней правой части доски\n",
        "                        if array[y + x - i][i] == 0:\n",
        "                            array[y + x - i][i] = 1\n",
        "\n",
        "\n",
        "def filling_quins(array, quins_amount):\n",
        "    length = len(array)\n",
        "    for y in range(length):\n",
        "        for x in range(length):\n",
        "            if array[y][x] == 0:  # нашли свободное место для королевы\n",
        "                array[y][x] = 2\n",
        "                quins_amount -= 1\n",
        "                make_quins_attack(array)\n",
        "                if quins_amount == 0:  # королев не осталось\n",
        "                    return 1  # королевы успешно расставленны\n",
        "                if filling_quins(array, quins_amount) == 1:\n",
        "                    return 1  # королевы успешно расставленны\n",
        "                else:\n",
        "                    array[y][x] = 0\n",
        "                    quins_amount += 1\n",
        "                    make_quins_attack(array)\n",
        "    return -1  # неудача\n",
        "\n",
        "\n",
        "def chess_2(board_length, quins_amount):\n",
        "    board = [0] * board_length\n",
        "    for i in range(board_length):  # формируем нашу доску как массив из массивов\n",
        "        board[i] = [0] * board_length\n",
        "    if filling_quins(board, quins_amount) == 1:  # ищем доску\n",
        "        print(\"Комбинация найдена!\")\n",
        "    else:\n",
        "        print(\"Комбинации не существует!\")\n",
        "    return board"
      ],
      "execution_count":35,
      "outputs":[
        
      ],
      "metadata":{
        
      }
    },
    {
      "cell_type":"markdown",
      "source":[
        "# вывод нашей доски в удобоваримом виде"
      ],
      "metadata":{
        
      }
    },
    {
      "cell_type":"code",
      "source":[
        "class Colors:\n",
        "    WHITE = '\\u001b[47m'\n",
        "    BLACK = '\\u001b[48m'\n",
        "    BLUE = '\\u001b[44m'\n",
        "    RED = '\\u001b[41m'\n",
        "    RESET = '\\u001b[0m'\n",
        "    \n",
        "\n",
        "our_board = chess_2(64, 8)\n",
        "\n",
        "white_f = False\n",
        "for y in our_board:\n",
        "    for x in y:\n",
        "        if white_f:\n",
        "            white_f = False\n",
        "        else:\n",
        "            white_f = True\n",
        "        if x == 0:\n",
        "            if white_f:\n",
        "                print(Colors.WHITE + \" O \" + Colors.RESET, end='')\n",
        "            else:\n",
        "                print(Colors.BLACK + \" O \" + Colors.RESET, end='')\n",
        "        elif x == 1:\n",
        "            print(Colors.RED + \" C \" + Colors.RESET, end='')\n",
        "        else:\n",
        "            print(Colors.BLUE + \" Q \" + Colors.RESET, end='')\n",
        "    print('')\n",
        "    if white_f:\n",
        "        white_f = False\n",
        "    else:\n",
        "        white_f = True"
      ],
      "execution_count":0,
      "outputs":[
        
      ],
      "metadata":{
        
      }
    },
    {
      "cell_type":"markdown",
      "source":[
        "![chess_2.jpg](chess_2.jpg)"
      ],
      "metadata":{
        
      }
    },
    {
      "cell_type":"markdown",
      "source":[
        "# вывод\n",
        "Мной были реализованы различные методы поиска. Так же было оценено время работы каждого алгоритма поиска на языке программирования Python. Помимо этого было реализованы методы рехеширования и выполнения задача на расстановку королев на поле"
      ],
      "metadata":{
        
      }
    }
  ],
  "metadata":{
    
  },
  "nbformat":4,
  "nbformat_minor":0
}