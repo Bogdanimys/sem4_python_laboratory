{
  "cells":[
    {
      "cell_type":"markdown",
      "source":[
        "# задачи на строки"
      ],
      "metadata":{
        
      }
    },
    {
      "cell_type":"markdown",
      "source":[
        "# ЗАДАЧА 1\n",
        "Даны две строки: s1 и s2 с одинаковым размером, проверьте, может ли\n",
        "некоторая перестановка строки s1 “победить” некоторую перестановку\n",
        "строки s2 или наоборот.\n",
        "Строка x может “победить” строку y (обе имеют размер n), если x[i]> = y\n",
        "[i] (в алфавитном порядке) для всех i от 0 до n-1."
      ],
      "metadata":{
        
      }
    },
    {
      "cell_type":"code",
      "source":[
        "from itertools import permutations\n",
        "\n",
        "\n",
        "def can_win(s_attack, s_defend):\n",
        "    for i in range(len(s_attack)):\n",
        "        if s_attack[i] < s_defend[i]:\n",
        "            return False\n",
        "    return True\n",
        "\n",
        "\n",
        "def all_combinations(s1_origin, s2_origin):\n",
        "    arr_all_comb1 = [''.join(p) for p in permutations(s1_origin)]\n",
        "    arr_all_comb2 = [''.join(p) for p in permutations(s2_origin)]\n",
        "    for s1 in arr_all_comb1:\n",
        "        for s2 in arr_all_comb2:\n",
        "            if s1 != s2:\n",
        "                if can_win(s1, s2) or can_win(s2, s1):\n",
        "                    return True\n",
        "    return False"
      ],
      "execution_count":1,
      "outputs":[
        
      ],
      "metadata":{
        
      }
    },
    {
      "cell_type":"markdown",
      "source":[
        "# примеры работы"
      ],
      "metadata":{
        
      }
    },
    {
      "cell_type":"code",
      "source":[
        "print(all_combinations('abe', 'acc'))\n",
        "print(all_combinations('abc', 'xya'))"
      ],
      "execution_count":2,
      "outputs":[
        {
          "name":"stdout",
          "text":[
            "False\n",
            "True\n"
          ],
          "output_type":"stream"
        }
      ],
      "metadata":{
        
      }
    },
    {
      "cell_type":"markdown",
      "source":[
        "# ЗАДАЧА 2\n",
        "Дана строка s, вернуть самую длинную полиндромную подстроку в s."
      ],
      "metadata":{
        
      }
    },
    {
      "cell_type":"code",
      "source":[
        "def isPalindrome(s):\n",
        "    return s == s[::-1]\n",
        "\n",
        "\n",
        "def longest_palindrome(s):\n",
        "    s_longest_pal = ''\n",
        "    length = len(s)\n",
        "    arr_all_substrings = [s[i: j] for i in range(len(s))\n",
        "           for j in range(i + 1, len(s) + 1)]\n",
        "\n",
        "    for s1 in arr_all_substrings:\n",
        "        if isPalindrome(s1):\n",
        "            if len(s1) > len(s_longest_pal):\n",
        "                s_longest_pal = s1\n",
        "    return s_longest_pal"
      ],
      "execution_count":3,
      "outputs":[
        
      ],
      "metadata":{
        
      }
    },
    {
      "cell_type":"markdown",
      "source":[
        "# примеры работы"
      ],
      "metadata":{
        
      }
    },
    {
      "cell_type":"code",
      "source":[
        "s = 'babad'\n",
        "print(longest_palindrome(s))\n",
        "s = 'cbbd'\n",
        "print(longest_palindrome(s))"
      ],
      "execution_count":5,
      "outputs":[
        {
          "name":"stdout",
          "text":[
            "bab\n",
            "bb\n"
          ],
          "output_type":"stream"
        }
      ],
      "metadata":{
        
      }
    },
    {
      "cell_type":"markdown",
      "source":[
        "# ЗАДАЧА 3\n",
        "Вернуть количество отдельных непустых подстрок текста, которые могут\n",
        "быть записаны как конкатенация некоторой строки с самой собой (т.е. она\n",
        "может быть записана, как a + a, где a - некоторая строка)."
      ],
      "metadata":{
        
      }
    },
    {
      "cell_type":"code",
      "source":[
        "from math import ceil\n",
        "\n",
        "\n",
        "def concat(s):\n",
        "\n",
        "    return s == s[:ceil(len(s) \/ 2)] + s[:ceil(len(s) \/ 2)]\n",
        "\n",
        "\n",
        "def all_concat(s):\n",
        "    dict_of_concat = dict()\n",
        "    length = len(s)\n",
        "    arr_all_substrings = [s[i: j] for i in range(length)\n",
        "           for j in range(i + 1, length + 1)]\n",
        "\n",
        "    for s1 in arr_all_substrings:\n",
        "        if concat(s1):\n",
        "            dict_of_concat.__setitem__(s1, 0)\n",
        "    return len(dict_of_concat)"
      ],
      "execution_count":6,
      "outputs":[
        
      ],
      "metadata":{
        
      }
    },
    {
      "cell_type":"markdown",
      "source":[
        "# примеры работы"
      ],
      "metadata":{
        
      }
    },
    {
      "cell_type":"code",
      "source":[
        "s = 'abcabcabc'\n",
        "print(all_concat(s))"
      ],
      "execution_count":7,
      "outputs":[
        {
          "name":"stdout",
          "text":[
            "3\n"
          ],
          "output_type":"stream"
        }
      ],
      "metadata":{
        
      }
    },
    {
      "cell_type":"markdown",
      "source":[
        "# Задача «Объединение отрезков»\n",
        "Дан массив отрезков intervals, в котором intervals[i] = [starti, endi], некоторые\n",
        "отрезки могут пересекаться. Напишите функцию, которая объединяет все пересекающиеся отрезки\n",
        "в один и возвращает новый массив непересекающихся отрезков."
      ],
      "metadata":{
        
      }
    },
    {
      "cell_type":"code",
      "source":[
        "def unite(intervals):\n",
        "    j = 0\n",
        "    while j < len(intervals):\n",
        "        i = 0\n",
        "        while i < len(intervals):\n",
        "            if intervals[i][0] < intervals[j][1] and intervals[i][1] > intervals[j][0] and intervals[i] != intervals[j]:\n",
        "                if intervals[i][0] <= intervals[j][0]:\n",
        "                    intervals[j] = [intervals[i][0], intervals[j][1]]\n",
        "                if intervals[i][1] >= intervals[j][1]:\n",
        "                    intervals[j] = [intervals[j][0], intervals[i][1]]\n",
        "                intervals.pop(i)\n",
        "\n",
        "                i -= 1\n",
        "                j -= 1\n",
        "            i += 1\n",
        "        j += 1"
      ],
      "execution_count":1,
      "outputs":[
        
      ],
      "metadata":{
        
      }
    },
    {
      "cell_type":"markdown",
      "source":[
        "# примеры работы"
      ],
      "metadata":{
        
      }
    },
    {
      "cell_type":"code",
      "source":[
        "intervals = [[1, 3], [2, 6], [8, 10], [15, 18]]\n",
        "\n",
        "unite(intervals)\n",
        "\n",
        "print(intervals)"
      ],
      "execution_count":2,
      "outputs":[
        {
          "name":"stdout",
          "text":[
            "[[1, 6], [8, 10], [15, 18]]\n"
          ],
          "output_type":"stream"
        }
      ],
      "metadata":{
        
      }
    },
    {
      "cell_type":"markdown",
      "source":[
        "# Контрольные задачи "
      ],
      "metadata":{
        
      }
    },
    {
      "cell_type":"markdown",
      "source":[
        "# Задача 1. «Треугольник с максимальным периметром»\n",
        "Массив A состоит из целых положительных чисел длин\n",
        "отрезков. Составьте из трех отрезков\n",
        "такой треугольник, чтобы его периметр был максимально возможным. Если невозможно\n",
        "составить треугольник с положительной площадью функция\n",
        "возвращает 0."
      ],
      "metadata":{
        
      }
    },
    {
      "cell_type":"code",
      "source":[
        "def puzir(arr):\n",
        "    length = len(arr)\n",
        "    for i in range(length-1):\n",
        "        for j in range(length-i-1):\n",
        "            if arr[j] < arr[j+1]:\n",
        "                arr[j], arr[j+1] = arr[j+1], arr[j]\n",
        "    return arr\n",
        "\n",
        "\n",
        "def max_per(arr):\n",
        "    length = len(arr)\n",
        "    for i in range(length-2):\n",
        "        if arr[i]+arr[i+1] > arr[i+2] and arr[i]+arr[i+2] > arr[i+1] and arr[i+2]+arr[i+1] > arr[i]:\n",
        "            per = arr[i] + arr[i+1] + arr[i+2]\n",
        "            return per\n",
        "    return 0"
      ],
      "execution_count":8,
      "outputs":[
        
      ],
      "metadata":{
        
      }
    },
    {
      "cell_type":"markdown",
      "source":[
        "# пример работы"
      ],
      "metadata":{
        
      }
    },
    {
      "cell_type":"code",
      "source":[
        "arr = [2, 1, 2]\n",
        "print(max_per(arr))"
      ],
      "execution_count":9,
      "outputs":[
        {
          "name":"stdout",
          "text":[
            "5\n"
          ],
          "output_type":"stream"
        }
      ],
      "metadata":{
        
      }
    },
    {
      "cell_type":"markdown",
      "source":[
        "# Задача 2. «Максимальное число»\n",
        "Дан массив неотрицательных целых чисел nums. Расположите их в таком порядке, чтобы\n",
        "вместе они образовали максимально возможное число."
      ],
      "metadata":{
        
      }
    },
    {
      "cell_type":"code",
      "source":[
        "import numpy\n",
        "from copy import deepcopy\n",
        "\n",
        "\n",
        "def biggest_first_number(row):\n",
        "    ans_row = deepcopy(row)\n",
        "\n",
        "    max = -3\n",
        "    for i in range(len(row)):\n",
        "        if ans_row[i][0] >= max:\n",
        "            max = ans_row[i][0]\n",
        "    for i in range(len(row)):\n",
        "        if ans_row[i][0] != max and ans_row[i][0] >= 0:\n",
        "            ans_row[i][0] = -2\n",
        "    return ans_row\n",
        "\n",
        "\n",
        "def add_best_numbers(row, original_row):\n",
        "    big_number = ''\n",
        "    isNeededToBeChecked = False\n",
        "\n",
        "    for i in range(len(row)):\n",
        "        if row[i][0] >= 0:  \n",
        "            if len(row[i]) == 1:\n",
        "                big_number += str(''.join(map(str, original_row[i])))\n",
        "                row[i][0] = -1\n",
        "            else:\n",
        "                row[i].__delitem__(0)\n",
        "                isNeededToBeChecked = True\n",
        "\n",
        "    length = len(row)\n",
        "    i = 0\n",
        "    while i < length:  # удаляем добавленные числа\n",
        "        if row[i][0] == -1:\n",
        "            original_row.__delitem__(i)\n",
        "            row.__delitem__(i)\n",
        "            length -= 1\n",
        "        else:\n",
        "            i += 1\n",
        "\n",
        "    if isNeededToBeChecked:\n",
        "        best_numbers = biggest_first_number(row)\n",
        "        big_number += add_best_numbers(best_numbers, original_row)\n",
        "    return big_number\n",
        "\n",
        "\n",
        "def find_max(row):\n",
        "    length = len(row)\n",
        "    big_number = ''\n",
        "\n",
        "    raw_row = [''] * length\n",
        "\n",
        "    for i in range(length):\n",
        "        number = str(row[i])  # превращаем наши числа в массив символов\n",
        "        raw_row[i] = list(number)  # записываем наш массив в массив\n",
        "        raw_row[i] = [int(raw_row[i]) for raw_row[i] in raw_row[i]]\n",
        "\n",
        "    while len(raw_row) != 0:\n",
        "        best_numbers = biggest_first_number(raw_row)  # находим лучших кандидатов\n",
        "\n",
        "        big_number += add_best_numbers(best_numbers, raw_row)\n",
        "\n",
        "    return big_number"
      ],
      "execution_count":11,
      "outputs":[
        
      ],
      "metadata":{
        
      }
    },
    {
      "cell_type":"markdown",
      "source":[
        "# пример работы"
      ],
      "metadata":{
        
      }
    },
    {
      "cell_type":"code",
      "source":[
        "row = numpy.random.randint(1, 150, size=5)\n",
        "print(row)\n",
        "result = find_max(row)\n",
        "print(result)"
      ],
      "execution_count":19,
      "outputs":[
        {
          "name":"stdout",
          "text":[
            "[ 96  48   4  10 116]\n",
            "9644811610\n"
          ],
          "output_type":"stream"
        }
      ],
      "metadata":{
        
      }
    },
    {
      "cell_type":"markdown",
      "source":[
        "# Задача 3. «Сортировка диагоналей в матрице»\n",
        "Дана матрица mat размером m * n, значения целочисленные.\n",
        "Напишите функцию, сортирующую\n",
        "каждую диагональ матрицы по возрастанию и возвращающую получившуюся матрицу."
      ],
      "metadata":{
        
      }
    },
    {
      "cell_type":"code",
      "source":[
        "import numpy\n",
        "\n",
        "def sort_matrix(mat):\n",
        "    height = len(mat)\n",
        "    width = len(mat[0])\n",
        "\n",
        "    for x_start in range(1, width):\n",
        "        line = []\n",
        "        x = x_start\n",
        "        for y in range(height - (0 if width - height - x >= 0 else abs(width - height - x)) ):\n",
        "            line.append(mat[y][x])\n",
        "            x += 1\n",
        "        #print(line)\n",
        "        line.sort()\n",
        "        #print(line)\n",
        "\n",
        "        x = x_start\n",
        "        for y in range(height - (0 if width - height - x >= 0 else abs(width - height - x)) ):\n",
        "            mat[y][x] = line[y]\n",
        "            x += 1\n",
        "\n",
        "    for y_start in range(0, height):\n",
        "        line = []\n",
        "        y = y_start\n",
        "        for x in range(width - (0 if height - width - y >= 0 else abs(height - width - y)) ):\n",
        "            line.append(mat[y][x])\n",
        "            y += 1\n",
        "        #print(line)\n",
        "        line.sort()\n",
        "        #print(line)\n",
        "\n",
        "        y = y_start\n",
        "        for x in range(width - (0 if height - width - y >= 0 else abs(height - width - y)) ):\n",
        "            mat[y][x] = line[x]\n",
        "            y += 1"
      ],
      "execution_count":13,
      "outputs":[
        
      ],
      "metadata":{
        
      }
    },
    {
      "cell_type":"markdown",
      "source":[
        "# пример работы"
      ],
      "metadata":{
        
      }
    },
    {
      "cell_type":"code",
      "source":[
        "matrix = numpy.random.randint(0, 10, size=(5,4))\n",
        "print(matrix)\n",
        "\n",
        "sort_matrix(matrix)\n",
        "print(matrix)"
      ],
      "execution_count":15,
      "outputs":[
        {
          "name":"stdout",
          "text":[
            "[[5 3 8 8]\n",
            " [8 9 5 0]\n",
            " [0 8 8 9]\n",
            " [7 8 1 6]\n",
            " [6 4 5 8]]\n",
            "[[5 3 0 8]\n",
            " [1 6 5 8]\n",
            " [0 8 8 9]\n",
            " [4 5 8 9]\n",
            " [6 7 8 8]]\n"
          ],
          "output_type":"stream"
        }
      ],
      "metadata":{
        
      }
    }
  ],
  "metadata":{
    
  },
  "nbformat":4,
  "nbformat_minor":0
}