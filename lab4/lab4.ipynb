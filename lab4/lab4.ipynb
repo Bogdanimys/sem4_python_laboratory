{
  "cells":[
    {
      "cell_type":"markdown",
      "source":[
        "# Лабораторная работа №4. Реализация стека\\дека\n",
        "# **Выполнил студент группы БВТ1903 Сельвестренко В.В.**\n",
        "# Задание\n",
        "Реализовать следующие структуры данных:\n",
        "\n",
        "● Стек (stack):\n",
        "операции для стека: инициализация, проверка на пустоту, добавление\n",
        "нового элемента в начало, извлечение элемента из начала;\n",
        "\n",
        "● Дек (двусторонняя очередь, deque):\n",
        "операции для дека: инициализация, проверка на пустоту, добавление\n",
        "нового элемента в начало, добавление нового элемента в конец,\n",
        "извлечение элемента из начала, извлечение элемента из конца.\n",
        "\n",
        "Разработать программу обработки данных, содержащихся в заранее\n",
        "подготовленном txt-файле, в соответствии с заданиями, применив\n",
        "указанную в задании структуру данных. Результат работы программы\n",
        "вывести на экран и сохранить в отдельном txt-файле.\n",
        "\n",
        "ЗАДАНИЕ:\n",
        "6) Дан файл из символов. Используя стек, за один просмотр файла напечатать\n",
        "сначала все цифры, затем все буквы, и, наконец, все остальные символы, сохраняя\n",
        "исходный порядок в каждой группе символов."
      ],
      "metadata":{
        
      }
    },
    {
      "cell_type":"markdown",
      "source":[
        "# стек"
      ],
      "metadata":{
        
      }
    },
    {
      "cell_type":"code",
      "source":[
        "class MyStack:\n",
        "\n",
        "    def __init__(self):\n",
        "        self.array = []\n",
        "\n",
        "    def empty(self):\n",
        "        if self.array is None:\n",
        "            return True\n",
        "        if len(self.array) == 0:\n",
        "            return True\n",
        "        return False\n",
        "\n",
        "    def add(self, element):\n",
        "        self.array.append(element)\n",
        "\n",
        "    def pop(self):\n",
        "        return self.array.pop()\n",
        "\n",
        "    def __len__(self):\n",
        "        return self.array.__len__()\n",
        "\n",
        "    def check(self):\n",
        "        return self.array.__getitem__(len(self.array) - 1)"
      ],
      "execution_count":6,
      "outputs":[
        
      ],
      "metadata":{
        
      }
    },
    {
      "cell_type":"markdown",
      "source":[
        "# пример работы"
      ],
      "metadata":{
        
      }
    },
    {
      "cell_type":"code",
      "source":[
        "stack_my =MyStack()\n",
        "\n",
        "print(stack_my.empty())\n",
        "stack_my.add(3)\n",
        "stack_my.add(4)\n",
        "\n",
        "print(stack_my.pop())"
      ],
      "execution_count":3,
      "outputs":[
        {
          "name":"stdout",
          "text":[
            "True\n",
            "4\n"
          ],
          "output_type":"stream"
        }
      ],
      "metadata":{
        
      }
    },
    {
      "cell_type":"markdown",
      "source":[
        "# дек"
      ],
      "metadata":{
        
      }
    },
    {
      "cell_type":"code",
      "source":[
        "class DeQue:\n",
        "\n",
        "    def __init__(self):\n",
        "        self.array = []\n",
        "\n",
        "    def isempty(self):\n",
        "        if self.array is None:\n",
        "            return True\n",
        "        if len(self.array) == 0:\n",
        "            return True\n",
        "        return False\n",
        "\n",
        "    def addbeginning(self, element):\n",
        "        self.array.insert(0, element)\n",
        "\n",
        "    def addend(self, element):\n",
        "        self.array.append(element)\n",
        "\n",
        "    def popbeginning(self):\n",
        "        return self.array.pop(0)\n",
        "\n",
        "    def popend(self):\n",
        "        return self.array.pop()"
      ],
      "execution_count":4,
      "outputs":[
        
      ],
      "metadata":{
        
      }
    },
    {
      "cell_type":"markdown",
      "source":[
        "# пример работы"
      ],
      "metadata":{
        
      }
    },
    {
      "cell_type":"code",
      "source":[
        "deque_my = DeQue()\n",
        "\n",
        "print(deque_my.isempty())\n",
        "\n",
        "deque_my.addbeginning(2)\n",
        "deque_my.addbeginning(3)\n",
        "deque_my.addend(5)\n",
        "deque_my.addend(6)\n",
        "\n",
        "print(deque_my.popbeginning())\n",
        "print(deque_my.popend())"
      ],
      "execution_count":5,
      "outputs":[
        {
          "name":"stdout",
          "text":[
            "True\n",
            "3\n",
            "6\n"
          ],
          "output_type":"stream"
        }
      ],
      "metadata":{
        
      }
    },
    {
      "cell_type":"markdown",
      "source":[
        "# ЗАДАЧА"
      ],
      "metadata":{
        
      }
    },
    {
      "cell_type":"code",
      "source":[
        "file = open('disks_amount.txt')\n",
        "\n",
        "stack_symbols = MyStack()\n",
        "stack_numbers = MyStack()\n",
        "stack_other = MyStack()\n",
        "\n",
        "for line in file:\n",
        "    for sym in line:\n",
        "        if '9' >= sym[0] >= '0':\n",
        "            stack_numbers.add(sym)\n",
        "        elif 'A' <= sym[0] <= 'z':\n",
        "            stack_symbols.add(sym)\n",
        "        else:\n",
        "            stack_other.add(sym)\n",
        "\n",
        "\n",
        "\n",
        "stack_symbols_revers = MyStack()\n",
        "stack_numbers_revers = MyStack()\n",
        "stack_other_revers = MyStack()\n",
        "\n",
        "while not stack_numbers.empty():\n",
        "    stack_numbers_revers.add(stack_numbers.pop())\n",
        "while not stack_symbols.empty():\n",
        "    stack_symbols_revers.add(stack_symbols.pop())\n",
        "while not stack_other.empty():\n",
        "    stack_other_revers.add(stack_other.pop())\n",
        "\n",
        "file = open('ans.txt', 'w')\n",
        "\n",
        "while not stack_numbers_revers.empty():\n",
        "    file.write(stack_numbers_revers.pop())\n",
        "file.write('\\n')\n",
        "while not stack_symbols_revers.empty():\n",
        "    file.write(stack_symbols_revers.pop())\n",
        "file.write('\\n')\n",
        "while not stack_other_revers.empty():\n",
        "    file.write(stack_other_revers.pop())"
      ],
      "execution_count":12,
      "outputs":[
        
      ],
      "metadata":{
        
      }
    }
  ],
  "metadata":{
    
  },
  "nbformat":4,
  "nbformat_minor":0
}